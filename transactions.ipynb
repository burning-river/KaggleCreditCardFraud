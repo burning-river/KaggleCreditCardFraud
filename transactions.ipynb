{
 "cells": [
  {
   "cell_type": "code",
   "execution_count": 52,
   "metadata": {},
   "outputs": [],
   "source": [
    "# File load\n",
    "\n",
    "import urllib.request\n",
    "from pathlib import Path\n",
    "import os\n",
    "import pandas as pd\n",
    "import dill\n",
    "\n",
    "# Data Manipulation\n",
    "import numpy as np\n",
    "from collections import Counter\n",
    "\n",
    "# Data Visualization\n",
    "import matplotlib.pyplot as plt\n",
    "%matplotlib inline\n",
    "from matplotlib.figure import Figure\n",
    "from pandas.plotting import scatter_matrix\n",
    "import seaborn as sns\n",
    "import scipy\n",
    "\n",
    "# Model Building\n",
    "from sklearn.preprocessing import OneHotEncoder\n",
    "from sklearn.compose import ColumnTransformer\n",
    "from sklearn.model_selection import train_test_split\n",
    "from sklearn.pipeline import Pipeline\n",
    "from sklearn.linear_model import LogisticRegression, SGDClassifier\n",
    "from sklearn.ensemble import RandomForestClassifier, GradientBoostingClassifier\n",
    "from sklearn.tree import DecisionTreeClassifier\n",
    "from xgboost import XGBClassifier\n",
    "from sklearn.metrics import make_scorer\n",
    "from sklearn.preprocessing import MaxAbsScaler\n",
    "from sklearn.model_selection import cross_val_score, cross_validate\n",
    "from imblearn.under_sampling import RandomUnderSampler\n",
    "from imblearn.over_sampling import RandomOverSampler\n",
    "import time\n",
    "from sklearn.metrics import confusion_matrix, roc_curve, f1_score, balanced_accuracy_score, recall_score, precision_score, roc_auc_score, precision_recall_curve, auc, plot_confusion_matrix\n",
    "from sklearn.model_selection import GridSearchCV\n",
    "from sklearn.metrics import auc as auc\n",
    "import xgboost"
   ]
  },
  {
   "cell_type": "markdown",
   "metadata": {},
   "source": [
    "### Section 1: Loading Data\n",
    "\n",
    "Downloading data programmatically using the Kaggle API and loading into Pandas."
   ]
  },
  {
   "cell_type": "code",
   "execution_count": 4,
   "metadata": {},
   "outputs": [],
   "source": [
    "def load_data():\n",
    "    path = os.getcwd() + '/'\n",
    "    pkd_file = Path(path+'creditcard.pkd')\n",
    "    if pkd_file.is_file():\n",
    "        data = dill.load(open(path+'creditcard.pkd', 'rb'))\n",
    "        pass\n",
    "    else:        \n",
    "        file = 'creditcardfraud.zip'\n",
    "\n",
    "        zip_file = Path(path + file)\n",
    "        if zip_file.is_file():\n",
    "            print('zip file already present')\n",
    "        else:\n",
    "            !kaggle datasets download -d mlg-ulb/creditcardfraud\n",
    "            print (\"Download complete!\")\n",
    "\n",
    "        file_raw = Path(path + 'creditcard.csv')\n",
    "        if file_raw.is_file():\n",
    "            print('csv file already present!')\n",
    "        else:\n",
    "            !unzip -u $path$file -d $path\n",
    "\n",
    "        print('Now reading csv file')    \n",
    "        data = pd.read_csv(path+'creditcard.csv',sep=',')\n",
    "        dill.dump(data, open(path+'creditcard.pkd', 'wb'))\n",
    "    \n",
    "    return data"
   ]
  },
  {
   "cell_type": "code",
   "execution_count": 5,
   "metadata": {},
   "outputs": [],
   "source": [
    "transxns = load_data()"
   ]
  },
  {
   "cell_type": "markdown",
   "metadata": {},
   "source": [
    "#### 1.2: Structure of data\n",
    "Number of records and fields in each record."
   ]
  },
  {
   "cell_type": "code",
   "execution_count": 6,
   "metadata": {},
   "outputs": [
    {
     "name": "stdout",
     "output_type": "stream",
     "text": [
      "Number of Rows (Records): 284807\n",
      "Number of Columns (Fields): 31\n"
     ]
    }
   ],
   "source": [
    "print(f'Number of Rows (Records): {transxns.shape[0]}')\n",
    "print(f'Number of Columns (Fields): {transxns.shape[1]}')"
   ]
  },
  {
   "cell_type": "markdown",
   "metadata": {},
   "source": [
    "+ **Data Size:** Number of Rows (Records): 786363\\\n",
    "Number of Columns (Fields): 29"
   ]
  },
  {
   "cell_type": "markdown",
   "metadata": {},
   "source": [
    "#### 1.3: Summary Statistics\n",
    "\n",
    "Let's look at the basic summary statistics for each field including a count of null, minimum, maximum, and unique values where appropriate."
   ]
  },
  {
   "cell_type": "code",
   "execution_count": 5,
   "metadata": {
    "scrolled": true
   },
   "outputs": [
    {
     "data": {
      "text/html": [
       "<div>\n",
       "<style scoped>\n",
       "    .dataframe tbody tr th:only-of-type {\n",
       "        vertical-align: middle;\n",
       "    }\n",
       "\n",
       "    .dataframe tbody tr th {\n",
       "        vertical-align: top;\n",
       "    }\n",
       "\n",
       "    .dataframe thead th {\n",
       "        text-align: right;\n",
       "    }\n",
       "</style>\n",
       "<table border=\"1\" class=\"dataframe\">\n",
       "  <thead>\n",
       "    <tr style=\"text-align: right;\">\n",
       "      <th></th>\n",
       "      <th>0</th>\n",
       "      <th>1</th>\n",
       "      <th>2</th>\n",
       "      <th>3</th>\n",
       "      <th>4</th>\n",
       "    </tr>\n",
       "  </thead>\n",
       "  <tbody>\n",
       "    <tr>\n",
       "      <th>Time</th>\n",
       "      <td>0.000000</td>\n",
       "      <td>0.000000</td>\n",
       "      <td>1.000000</td>\n",
       "      <td>1.000000</td>\n",
       "      <td>2.000000</td>\n",
       "    </tr>\n",
       "    <tr>\n",
       "      <th>V1</th>\n",
       "      <td>-1.359807</td>\n",
       "      <td>1.191857</td>\n",
       "      <td>-1.358354</td>\n",
       "      <td>-0.966272</td>\n",
       "      <td>-1.158233</td>\n",
       "    </tr>\n",
       "    <tr>\n",
       "      <th>V2</th>\n",
       "      <td>-0.072781</td>\n",
       "      <td>0.266151</td>\n",
       "      <td>-1.340163</td>\n",
       "      <td>-0.185226</td>\n",
       "      <td>0.877737</td>\n",
       "    </tr>\n",
       "    <tr>\n",
       "      <th>V3</th>\n",
       "      <td>2.536347</td>\n",
       "      <td>0.166480</td>\n",
       "      <td>1.773209</td>\n",
       "      <td>1.792993</td>\n",
       "      <td>1.548718</td>\n",
       "    </tr>\n",
       "    <tr>\n",
       "      <th>V4</th>\n",
       "      <td>1.378155</td>\n",
       "      <td>0.448154</td>\n",
       "      <td>0.379780</td>\n",
       "      <td>-0.863291</td>\n",
       "      <td>0.403034</td>\n",
       "    </tr>\n",
       "    <tr>\n",
       "      <th>V5</th>\n",
       "      <td>-0.338321</td>\n",
       "      <td>0.060018</td>\n",
       "      <td>-0.503198</td>\n",
       "      <td>-0.010309</td>\n",
       "      <td>-0.407193</td>\n",
       "    </tr>\n",
       "    <tr>\n",
       "      <th>V6</th>\n",
       "      <td>0.462388</td>\n",
       "      <td>-0.082361</td>\n",
       "      <td>1.800499</td>\n",
       "      <td>1.247203</td>\n",
       "      <td>0.095921</td>\n",
       "    </tr>\n",
       "    <tr>\n",
       "      <th>V7</th>\n",
       "      <td>0.239599</td>\n",
       "      <td>-0.078803</td>\n",
       "      <td>0.791461</td>\n",
       "      <td>0.237609</td>\n",
       "      <td>0.592941</td>\n",
       "    </tr>\n",
       "    <tr>\n",
       "      <th>V8</th>\n",
       "      <td>0.098698</td>\n",
       "      <td>0.085102</td>\n",
       "      <td>0.247676</td>\n",
       "      <td>0.377436</td>\n",
       "      <td>-0.270533</td>\n",
       "    </tr>\n",
       "    <tr>\n",
       "      <th>V9</th>\n",
       "      <td>0.363787</td>\n",
       "      <td>-0.255425</td>\n",
       "      <td>-1.514654</td>\n",
       "      <td>-1.387024</td>\n",
       "      <td>0.817739</td>\n",
       "    </tr>\n",
       "    <tr>\n",
       "      <th>V10</th>\n",
       "      <td>0.090794</td>\n",
       "      <td>-0.166974</td>\n",
       "      <td>0.207643</td>\n",
       "      <td>-0.054952</td>\n",
       "      <td>0.753074</td>\n",
       "    </tr>\n",
       "    <tr>\n",
       "      <th>V11</th>\n",
       "      <td>-0.551600</td>\n",
       "      <td>1.612727</td>\n",
       "      <td>0.624501</td>\n",
       "      <td>-0.226487</td>\n",
       "      <td>-0.822843</td>\n",
       "    </tr>\n",
       "    <tr>\n",
       "      <th>V12</th>\n",
       "      <td>-0.617801</td>\n",
       "      <td>1.065235</td>\n",
       "      <td>0.066084</td>\n",
       "      <td>0.178228</td>\n",
       "      <td>0.538196</td>\n",
       "    </tr>\n",
       "    <tr>\n",
       "      <th>V13</th>\n",
       "      <td>-0.991390</td>\n",
       "      <td>0.489095</td>\n",
       "      <td>0.717293</td>\n",
       "      <td>0.507757</td>\n",
       "      <td>1.345852</td>\n",
       "    </tr>\n",
       "    <tr>\n",
       "      <th>V14</th>\n",
       "      <td>-0.311169</td>\n",
       "      <td>-0.143772</td>\n",
       "      <td>-0.165946</td>\n",
       "      <td>-0.287924</td>\n",
       "      <td>-1.119670</td>\n",
       "    </tr>\n",
       "    <tr>\n",
       "      <th>V15</th>\n",
       "      <td>1.468177</td>\n",
       "      <td>0.635558</td>\n",
       "      <td>2.345865</td>\n",
       "      <td>-0.631418</td>\n",
       "      <td>0.175121</td>\n",
       "    </tr>\n",
       "    <tr>\n",
       "      <th>V16</th>\n",
       "      <td>-0.470401</td>\n",
       "      <td>0.463917</td>\n",
       "      <td>-2.890083</td>\n",
       "      <td>-1.059647</td>\n",
       "      <td>-0.451449</td>\n",
       "    </tr>\n",
       "    <tr>\n",
       "      <th>V17</th>\n",
       "      <td>0.207971</td>\n",
       "      <td>-0.114805</td>\n",
       "      <td>1.109969</td>\n",
       "      <td>-0.684093</td>\n",
       "      <td>-0.237033</td>\n",
       "    </tr>\n",
       "    <tr>\n",
       "      <th>V18</th>\n",
       "      <td>0.025791</td>\n",
       "      <td>-0.183361</td>\n",
       "      <td>-0.121359</td>\n",
       "      <td>1.965775</td>\n",
       "      <td>-0.038195</td>\n",
       "    </tr>\n",
       "    <tr>\n",
       "      <th>V19</th>\n",
       "      <td>0.403993</td>\n",
       "      <td>-0.145783</td>\n",
       "      <td>-2.261857</td>\n",
       "      <td>-1.232622</td>\n",
       "      <td>0.803487</td>\n",
       "    </tr>\n",
       "    <tr>\n",
       "      <th>V20</th>\n",
       "      <td>0.251412</td>\n",
       "      <td>-0.069083</td>\n",
       "      <td>0.524980</td>\n",
       "      <td>-0.208038</td>\n",
       "      <td>0.408542</td>\n",
       "    </tr>\n",
       "    <tr>\n",
       "      <th>V21</th>\n",
       "      <td>-0.018307</td>\n",
       "      <td>-0.225775</td>\n",
       "      <td>0.247998</td>\n",
       "      <td>-0.108300</td>\n",
       "      <td>-0.009431</td>\n",
       "    </tr>\n",
       "    <tr>\n",
       "      <th>V22</th>\n",
       "      <td>0.277838</td>\n",
       "      <td>-0.638672</td>\n",
       "      <td>0.771679</td>\n",
       "      <td>0.005274</td>\n",
       "      <td>0.798278</td>\n",
       "    </tr>\n",
       "    <tr>\n",
       "      <th>V23</th>\n",
       "      <td>-0.110474</td>\n",
       "      <td>0.101288</td>\n",
       "      <td>0.909412</td>\n",
       "      <td>-0.190321</td>\n",
       "      <td>-0.137458</td>\n",
       "    </tr>\n",
       "    <tr>\n",
       "      <th>V24</th>\n",
       "      <td>0.066928</td>\n",
       "      <td>-0.339846</td>\n",
       "      <td>-0.689281</td>\n",
       "      <td>-1.175575</td>\n",
       "      <td>0.141267</td>\n",
       "    </tr>\n",
       "    <tr>\n",
       "      <th>V25</th>\n",
       "      <td>0.128539</td>\n",
       "      <td>0.167170</td>\n",
       "      <td>-0.327642</td>\n",
       "      <td>0.647376</td>\n",
       "      <td>-0.206010</td>\n",
       "    </tr>\n",
       "    <tr>\n",
       "      <th>V26</th>\n",
       "      <td>-0.189115</td>\n",
       "      <td>0.125895</td>\n",
       "      <td>-0.139097</td>\n",
       "      <td>-0.221929</td>\n",
       "      <td>0.502292</td>\n",
       "    </tr>\n",
       "    <tr>\n",
       "      <th>V27</th>\n",
       "      <td>0.133558</td>\n",
       "      <td>-0.008983</td>\n",
       "      <td>-0.055353</td>\n",
       "      <td>0.062723</td>\n",
       "      <td>0.219422</td>\n",
       "    </tr>\n",
       "    <tr>\n",
       "      <th>V28</th>\n",
       "      <td>-0.021053</td>\n",
       "      <td>0.014724</td>\n",
       "      <td>-0.059752</td>\n",
       "      <td>0.061458</td>\n",
       "      <td>0.215153</td>\n",
       "    </tr>\n",
       "    <tr>\n",
       "      <th>Amount</th>\n",
       "      <td>149.620000</td>\n",
       "      <td>2.690000</td>\n",
       "      <td>378.660000</td>\n",
       "      <td>123.500000</td>\n",
       "      <td>69.990000</td>\n",
       "    </tr>\n",
       "    <tr>\n",
       "      <th>Class</th>\n",
       "      <td>0.000000</td>\n",
       "      <td>0.000000</td>\n",
       "      <td>0.000000</td>\n",
       "      <td>0.000000</td>\n",
       "      <td>0.000000</td>\n",
       "    </tr>\n",
       "  </tbody>\n",
       "</table>\n",
       "</div>"
      ],
      "text/plain": [
       "                 0         1           2           3          4\n",
       "Time      0.000000  0.000000    1.000000    1.000000   2.000000\n",
       "V1       -1.359807  1.191857   -1.358354   -0.966272  -1.158233\n",
       "V2       -0.072781  0.266151   -1.340163   -0.185226   0.877737\n",
       "V3        2.536347  0.166480    1.773209    1.792993   1.548718\n",
       "V4        1.378155  0.448154    0.379780   -0.863291   0.403034\n",
       "V5       -0.338321  0.060018   -0.503198   -0.010309  -0.407193\n",
       "V6        0.462388 -0.082361    1.800499    1.247203   0.095921\n",
       "V7        0.239599 -0.078803    0.791461    0.237609   0.592941\n",
       "V8        0.098698  0.085102    0.247676    0.377436  -0.270533\n",
       "V9        0.363787 -0.255425   -1.514654   -1.387024   0.817739\n",
       "V10       0.090794 -0.166974    0.207643   -0.054952   0.753074\n",
       "V11      -0.551600  1.612727    0.624501   -0.226487  -0.822843\n",
       "V12      -0.617801  1.065235    0.066084    0.178228   0.538196\n",
       "V13      -0.991390  0.489095    0.717293    0.507757   1.345852\n",
       "V14      -0.311169 -0.143772   -0.165946   -0.287924  -1.119670\n",
       "V15       1.468177  0.635558    2.345865   -0.631418   0.175121\n",
       "V16      -0.470401  0.463917   -2.890083   -1.059647  -0.451449\n",
       "V17       0.207971 -0.114805    1.109969   -0.684093  -0.237033\n",
       "V18       0.025791 -0.183361   -0.121359    1.965775  -0.038195\n",
       "V19       0.403993 -0.145783   -2.261857   -1.232622   0.803487\n",
       "V20       0.251412 -0.069083    0.524980   -0.208038   0.408542\n",
       "V21      -0.018307 -0.225775    0.247998   -0.108300  -0.009431\n",
       "V22       0.277838 -0.638672    0.771679    0.005274   0.798278\n",
       "V23      -0.110474  0.101288    0.909412   -0.190321  -0.137458\n",
       "V24       0.066928 -0.339846   -0.689281   -1.175575   0.141267\n",
       "V25       0.128539  0.167170   -0.327642    0.647376  -0.206010\n",
       "V26      -0.189115  0.125895   -0.139097   -0.221929   0.502292\n",
       "V27       0.133558 -0.008983   -0.055353    0.062723   0.219422\n",
       "V28      -0.021053  0.014724   -0.059752    0.061458   0.215153\n",
       "Amount  149.620000  2.690000  378.660000  123.500000  69.990000\n",
       "Class     0.000000  0.000000    0.000000    0.000000   0.000000"
      ]
     },
     "execution_count": 5,
     "metadata": {},
     "output_type": "execute_result"
    }
   ],
   "source": [
    "transxns.head().T"
   ]
  },
  {
   "cell_type": "code",
   "execution_count": 6,
   "metadata": {
    "scrolled": true
   },
   "outputs": [
    {
     "name": "stdout",
     "output_type": "stream",
     "text": [
      "<class 'pandas.core.frame.DataFrame'>\n",
      "RangeIndex: 284807 entries, 0 to 284806\n",
      "Data columns (total 31 columns):\n",
      " #   Column  Non-Null Count   Dtype  \n",
      "---  ------  --------------   -----  \n",
      " 0   Time    284807 non-null  float64\n",
      " 1   V1      284807 non-null  float64\n",
      " 2   V2      284807 non-null  float64\n",
      " 3   V3      284807 non-null  float64\n",
      " 4   V4      284807 non-null  float64\n",
      " 5   V5      284807 non-null  float64\n",
      " 6   V6      284807 non-null  float64\n",
      " 7   V7      284807 non-null  float64\n",
      " 8   V8      284807 non-null  float64\n",
      " 9   V9      284807 non-null  float64\n",
      " 10  V10     284807 non-null  float64\n",
      " 11  V11     284807 non-null  float64\n",
      " 12  V12     284807 non-null  float64\n",
      " 13  V13     284807 non-null  float64\n",
      " 14  V14     284807 non-null  float64\n",
      " 15  V15     284807 non-null  float64\n",
      " 16  V16     284807 non-null  float64\n",
      " 17  V17     284807 non-null  float64\n",
      " 18  V18     284807 non-null  float64\n",
      " 19  V19     284807 non-null  float64\n",
      " 20  V20     284807 non-null  float64\n",
      " 21  V21     284807 non-null  float64\n",
      " 22  V22     284807 non-null  float64\n",
      " 23  V23     284807 non-null  float64\n",
      " 24  V24     284807 non-null  float64\n",
      " 25  V25     284807 non-null  float64\n",
      " 26  V26     284807 non-null  float64\n",
      " 27  V27     284807 non-null  float64\n",
      " 28  V28     284807 non-null  float64\n",
      " 29  Amount  284807 non-null  float64\n",
      " 30  Class   284807 non-null  int64  \n",
      "dtypes: float64(30), int64(1)\n",
      "memory usage: 67.4 MB\n"
     ]
    }
   ],
   "source": [
    "transxns.info(verbose = True)"
   ]
  },
  {
   "cell_type": "code",
   "execution_count": 7,
   "metadata": {
    "scrolled": true
   },
   "outputs": [
    {
     "data": {
      "text/html": [
       "<div>\n",
       "<style scoped>\n",
       "    .dataframe tbody tr th:only-of-type {\n",
       "        vertical-align: middle;\n",
       "    }\n",
       "\n",
       "    .dataframe tbody tr th {\n",
       "        vertical-align: top;\n",
       "    }\n",
       "\n",
       "    .dataframe thead th {\n",
       "        text-align: right;\n",
       "    }\n",
       "</style>\n",
       "<table border=\"1\" class=\"dataframe\">\n",
       "  <thead>\n",
       "    <tr style=\"text-align: right;\">\n",
       "      <th></th>\n",
       "      <th>count</th>\n",
       "      <th>mean</th>\n",
       "      <th>std</th>\n",
       "      <th>min</th>\n",
       "      <th>25%</th>\n",
       "      <th>50%</th>\n",
       "      <th>75%</th>\n",
       "      <th>max</th>\n",
       "    </tr>\n",
       "  </thead>\n",
       "  <tbody>\n",
       "    <tr>\n",
       "      <th>Time</th>\n",
       "      <td>284807.0</td>\n",
       "      <td>9.481386e+04</td>\n",
       "      <td>47488.145955</td>\n",
       "      <td>0.000000</td>\n",
       "      <td>54201.500000</td>\n",
       "      <td>84692.000000</td>\n",
       "      <td>139320.500000</td>\n",
       "      <td>172792.000000</td>\n",
       "    </tr>\n",
       "    <tr>\n",
       "      <th>V1</th>\n",
       "      <td>284807.0</td>\n",
       "      <td>3.918649e-15</td>\n",
       "      <td>1.958696</td>\n",
       "      <td>-56.407510</td>\n",
       "      <td>-0.920373</td>\n",
       "      <td>0.018109</td>\n",
       "      <td>1.315642</td>\n",
       "      <td>2.454930</td>\n",
       "    </tr>\n",
       "    <tr>\n",
       "      <th>V2</th>\n",
       "      <td>284807.0</td>\n",
       "      <td>5.682686e-16</td>\n",
       "      <td>1.651309</td>\n",
       "      <td>-72.715728</td>\n",
       "      <td>-0.598550</td>\n",
       "      <td>0.065486</td>\n",
       "      <td>0.803724</td>\n",
       "      <td>22.057729</td>\n",
       "    </tr>\n",
       "    <tr>\n",
       "      <th>V3</th>\n",
       "      <td>284807.0</td>\n",
       "      <td>-8.761736e-15</td>\n",
       "      <td>1.516255</td>\n",
       "      <td>-48.325589</td>\n",
       "      <td>-0.890365</td>\n",
       "      <td>0.179846</td>\n",
       "      <td>1.027196</td>\n",
       "      <td>9.382558</td>\n",
       "    </tr>\n",
       "    <tr>\n",
       "      <th>V4</th>\n",
       "      <td>284807.0</td>\n",
       "      <td>2.811118e-15</td>\n",
       "      <td>1.415869</td>\n",
       "      <td>-5.683171</td>\n",
       "      <td>-0.848640</td>\n",
       "      <td>-0.019847</td>\n",
       "      <td>0.743341</td>\n",
       "      <td>16.875344</td>\n",
       "    </tr>\n",
       "    <tr>\n",
       "      <th>V5</th>\n",
       "      <td>284807.0</td>\n",
       "      <td>-1.552103e-15</td>\n",
       "      <td>1.380247</td>\n",
       "      <td>-113.743307</td>\n",
       "      <td>-0.691597</td>\n",
       "      <td>-0.054336</td>\n",
       "      <td>0.611926</td>\n",
       "      <td>34.801666</td>\n",
       "    </tr>\n",
       "    <tr>\n",
       "      <th>V6</th>\n",
       "      <td>284807.0</td>\n",
       "      <td>2.040130e-15</td>\n",
       "      <td>1.332271</td>\n",
       "      <td>-26.160506</td>\n",
       "      <td>-0.768296</td>\n",
       "      <td>-0.274187</td>\n",
       "      <td>0.398565</td>\n",
       "      <td>73.301626</td>\n",
       "    </tr>\n",
       "    <tr>\n",
       "      <th>V7</th>\n",
       "      <td>284807.0</td>\n",
       "      <td>-1.698953e-15</td>\n",
       "      <td>1.237094</td>\n",
       "      <td>-43.557242</td>\n",
       "      <td>-0.554076</td>\n",
       "      <td>0.040103</td>\n",
       "      <td>0.570436</td>\n",
       "      <td>120.589494</td>\n",
       "    </tr>\n",
       "    <tr>\n",
       "      <th>V8</th>\n",
       "      <td>284807.0</td>\n",
       "      <td>-1.893285e-16</td>\n",
       "      <td>1.194353</td>\n",
       "      <td>-73.216718</td>\n",
       "      <td>-0.208630</td>\n",
       "      <td>0.022358</td>\n",
       "      <td>0.327346</td>\n",
       "      <td>20.007208</td>\n",
       "    </tr>\n",
       "    <tr>\n",
       "      <th>V9</th>\n",
       "      <td>284807.0</td>\n",
       "      <td>-3.147640e-15</td>\n",
       "      <td>1.098632</td>\n",
       "      <td>-13.434066</td>\n",
       "      <td>-0.643098</td>\n",
       "      <td>-0.051429</td>\n",
       "      <td>0.597139</td>\n",
       "      <td>15.594995</td>\n",
       "    </tr>\n",
       "    <tr>\n",
       "      <th>V10</th>\n",
       "      <td>284807.0</td>\n",
       "      <td>1.772925e-15</td>\n",
       "      <td>1.088850</td>\n",
       "      <td>-24.588262</td>\n",
       "      <td>-0.535426</td>\n",
       "      <td>-0.092917</td>\n",
       "      <td>0.453923</td>\n",
       "      <td>23.745136</td>\n",
       "    </tr>\n",
       "    <tr>\n",
       "      <th>V11</th>\n",
       "      <td>284807.0</td>\n",
       "      <td>9.289524e-16</td>\n",
       "      <td>1.020713</td>\n",
       "      <td>-4.797473</td>\n",
       "      <td>-0.762494</td>\n",
       "      <td>-0.032757</td>\n",
       "      <td>0.739593</td>\n",
       "      <td>12.018913</td>\n",
       "    </tr>\n",
       "    <tr>\n",
       "      <th>V12</th>\n",
       "      <td>284807.0</td>\n",
       "      <td>-1.803266e-15</td>\n",
       "      <td>0.999201</td>\n",
       "      <td>-18.683715</td>\n",
       "      <td>-0.405571</td>\n",
       "      <td>0.140033</td>\n",
       "      <td>0.618238</td>\n",
       "      <td>7.848392</td>\n",
       "    </tr>\n",
       "    <tr>\n",
       "      <th>V13</th>\n",
       "      <td>284807.0</td>\n",
       "      <td>1.674888e-15</td>\n",
       "      <td>0.995274</td>\n",
       "      <td>-5.791881</td>\n",
       "      <td>-0.648539</td>\n",
       "      <td>-0.013568</td>\n",
       "      <td>0.662505</td>\n",
       "      <td>7.126883</td>\n",
       "    </tr>\n",
       "    <tr>\n",
       "      <th>V14</th>\n",
       "      <td>284807.0</td>\n",
       "      <td>1.475621e-15</td>\n",
       "      <td>0.958596</td>\n",
       "      <td>-19.214325</td>\n",
       "      <td>-0.425574</td>\n",
       "      <td>0.050601</td>\n",
       "      <td>0.493150</td>\n",
       "      <td>10.526766</td>\n",
       "    </tr>\n",
       "    <tr>\n",
       "      <th>V15</th>\n",
       "      <td>284807.0</td>\n",
       "      <td>3.501098e-15</td>\n",
       "      <td>0.915316</td>\n",
       "      <td>-4.498945</td>\n",
       "      <td>-0.582884</td>\n",
       "      <td>0.048072</td>\n",
       "      <td>0.648821</td>\n",
       "      <td>8.877742</td>\n",
       "    </tr>\n",
       "    <tr>\n",
       "      <th>V16</th>\n",
       "      <td>284807.0</td>\n",
       "      <td>1.392460e-15</td>\n",
       "      <td>0.876253</td>\n",
       "      <td>-14.129855</td>\n",
       "      <td>-0.468037</td>\n",
       "      <td>0.066413</td>\n",
       "      <td>0.523296</td>\n",
       "      <td>17.315112</td>\n",
       "    </tr>\n",
       "    <tr>\n",
       "      <th>V17</th>\n",
       "      <td>284807.0</td>\n",
       "      <td>-7.466538e-16</td>\n",
       "      <td>0.849337</td>\n",
       "      <td>-25.162799</td>\n",
       "      <td>-0.483748</td>\n",
       "      <td>-0.065676</td>\n",
       "      <td>0.399675</td>\n",
       "      <td>9.253526</td>\n",
       "    </tr>\n",
       "    <tr>\n",
       "      <th>V18</th>\n",
       "      <td>284807.0</td>\n",
       "      <td>4.258754e-16</td>\n",
       "      <td>0.838176</td>\n",
       "      <td>-9.498746</td>\n",
       "      <td>-0.498850</td>\n",
       "      <td>-0.003636</td>\n",
       "      <td>0.500807</td>\n",
       "      <td>5.041069</td>\n",
       "    </tr>\n",
       "    <tr>\n",
       "      <th>V19</th>\n",
       "      <td>284807.0</td>\n",
       "      <td>9.019919e-16</td>\n",
       "      <td>0.814041</td>\n",
       "      <td>-7.213527</td>\n",
       "      <td>-0.456299</td>\n",
       "      <td>0.003735</td>\n",
       "      <td>0.458949</td>\n",
       "      <td>5.591971</td>\n",
       "    </tr>\n",
       "    <tr>\n",
       "      <th>V20</th>\n",
       "      <td>284807.0</td>\n",
       "      <td>5.126845e-16</td>\n",
       "      <td>0.770925</td>\n",
       "      <td>-54.497720</td>\n",
       "      <td>-0.211721</td>\n",
       "      <td>-0.062481</td>\n",
       "      <td>0.133041</td>\n",
       "      <td>39.420904</td>\n",
       "    </tr>\n",
       "    <tr>\n",
       "      <th>V21</th>\n",
       "      <td>284807.0</td>\n",
       "      <td>1.473120e-16</td>\n",
       "      <td>0.734524</td>\n",
       "      <td>-34.830382</td>\n",
       "      <td>-0.228395</td>\n",
       "      <td>-0.029450</td>\n",
       "      <td>0.186377</td>\n",
       "      <td>27.202839</td>\n",
       "    </tr>\n",
       "    <tr>\n",
       "      <th>V22</th>\n",
       "      <td>284807.0</td>\n",
       "      <td>8.042109e-16</td>\n",
       "      <td>0.725702</td>\n",
       "      <td>-10.933144</td>\n",
       "      <td>-0.542350</td>\n",
       "      <td>0.006782</td>\n",
       "      <td>0.528554</td>\n",
       "      <td>10.503090</td>\n",
       "    </tr>\n",
       "    <tr>\n",
       "      <th>V23</th>\n",
       "      <td>284807.0</td>\n",
       "      <td>5.282512e-16</td>\n",
       "      <td>0.624460</td>\n",
       "      <td>-44.807735</td>\n",
       "      <td>-0.161846</td>\n",
       "      <td>-0.011193</td>\n",
       "      <td>0.147642</td>\n",
       "      <td>22.528412</td>\n",
       "    </tr>\n",
       "    <tr>\n",
       "      <th>V24</th>\n",
       "      <td>284807.0</td>\n",
       "      <td>4.456271e-15</td>\n",
       "      <td>0.605647</td>\n",
       "      <td>-2.836627</td>\n",
       "      <td>-0.354586</td>\n",
       "      <td>0.040976</td>\n",
       "      <td>0.439527</td>\n",
       "      <td>4.584549</td>\n",
       "    </tr>\n",
       "    <tr>\n",
       "      <th>V25</th>\n",
       "      <td>284807.0</td>\n",
       "      <td>1.426896e-15</td>\n",
       "      <td>0.521278</td>\n",
       "      <td>-10.295397</td>\n",
       "      <td>-0.317145</td>\n",
       "      <td>0.016594</td>\n",
       "      <td>0.350716</td>\n",
       "      <td>7.519589</td>\n",
       "    </tr>\n",
       "    <tr>\n",
       "      <th>V26</th>\n",
       "      <td>284807.0</td>\n",
       "      <td>1.701640e-15</td>\n",
       "      <td>0.482227</td>\n",
       "      <td>-2.604551</td>\n",
       "      <td>-0.326984</td>\n",
       "      <td>-0.052139</td>\n",
       "      <td>0.240952</td>\n",
       "      <td>3.517346</td>\n",
       "    </tr>\n",
       "    <tr>\n",
       "      <th>V27</th>\n",
       "      <td>284807.0</td>\n",
       "      <td>-3.662252e-16</td>\n",
       "      <td>0.403632</td>\n",
       "      <td>-22.565679</td>\n",
       "      <td>-0.070840</td>\n",
       "      <td>0.001342</td>\n",
       "      <td>0.091045</td>\n",
       "      <td>31.612198</td>\n",
       "    </tr>\n",
       "    <tr>\n",
       "      <th>V28</th>\n",
       "      <td>284807.0</td>\n",
       "      <td>-1.217809e-16</td>\n",
       "      <td>0.330083</td>\n",
       "      <td>-15.430084</td>\n",
       "      <td>-0.052960</td>\n",
       "      <td>0.011244</td>\n",
       "      <td>0.078280</td>\n",
       "      <td>33.847808</td>\n",
       "    </tr>\n",
       "    <tr>\n",
       "      <th>Amount</th>\n",
       "      <td>284807.0</td>\n",
       "      <td>8.834962e+01</td>\n",
       "      <td>250.120109</td>\n",
       "      <td>0.000000</td>\n",
       "      <td>5.600000</td>\n",
       "      <td>22.000000</td>\n",
       "      <td>77.165000</td>\n",
       "      <td>25691.160000</td>\n",
       "    </tr>\n",
       "    <tr>\n",
       "      <th>Class</th>\n",
       "      <td>284807.0</td>\n",
       "      <td>1.727486e-03</td>\n",
       "      <td>0.041527</td>\n",
       "      <td>0.000000</td>\n",
       "      <td>0.000000</td>\n",
       "      <td>0.000000</td>\n",
       "      <td>0.000000</td>\n",
       "      <td>1.000000</td>\n",
       "    </tr>\n",
       "  </tbody>\n",
       "</table>\n",
       "</div>"
      ],
      "text/plain": [
       "           count          mean           std         min           25%  \\\n",
       "Time    284807.0  9.481386e+04  47488.145955    0.000000  54201.500000   \n",
       "V1      284807.0  3.918649e-15      1.958696  -56.407510     -0.920373   \n",
       "V2      284807.0  5.682686e-16      1.651309  -72.715728     -0.598550   \n",
       "V3      284807.0 -8.761736e-15      1.516255  -48.325589     -0.890365   \n",
       "V4      284807.0  2.811118e-15      1.415869   -5.683171     -0.848640   \n",
       "V5      284807.0 -1.552103e-15      1.380247 -113.743307     -0.691597   \n",
       "V6      284807.0  2.040130e-15      1.332271  -26.160506     -0.768296   \n",
       "V7      284807.0 -1.698953e-15      1.237094  -43.557242     -0.554076   \n",
       "V8      284807.0 -1.893285e-16      1.194353  -73.216718     -0.208630   \n",
       "V9      284807.0 -3.147640e-15      1.098632  -13.434066     -0.643098   \n",
       "V10     284807.0  1.772925e-15      1.088850  -24.588262     -0.535426   \n",
       "V11     284807.0  9.289524e-16      1.020713   -4.797473     -0.762494   \n",
       "V12     284807.0 -1.803266e-15      0.999201  -18.683715     -0.405571   \n",
       "V13     284807.0  1.674888e-15      0.995274   -5.791881     -0.648539   \n",
       "V14     284807.0  1.475621e-15      0.958596  -19.214325     -0.425574   \n",
       "V15     284807.0  3.501098e-15      0.915316   -4.498945     -0.582884   \n",
       "V16     284807.0  1.392460e-15      0.876253  -14.129855     -0.468037   \n",
       "V17     284807.0 -7.466538e-16      0.849337  -25.162799     -0.483748   \n",
       "V18     284807.0  4.258754e-16      0.838176   -9.498746     -0.498850   \n",
       "V19     284807.0  9.019919e-16      0.814041   -7.213527     -0.456299   \n",
       "V20     284807.0  5.126845e-16      0.770925  -54.497720     -0.211721   \n",
       "V21     284807.0  1.473120e-16      0.734524  -34.830382     -0.228395   \n",
       "V22     284807.0  8.042109e-16      0.725702  -10.933144     -0.542350   \n",
       "V23     284807.0  5.282512e-16      0.624460  -44.807735     -0.161846   \n",
       "V24     284807.0  4.456271e-15      0.605647   -2.836627     -0.354586   \n",
       "V25     284807.0  1.426896e-15      0.521278  -10.295397     -0.317145   \n",
       "V26     284807.0  1.701640e-15      0.482227   -2.604551     -0.326984   \n",
       "V27     284807.0 -3.662252e-16      0.403632  -22.565679     -0.070840   \n",
       "V28     284807.0 -1.217809e-16      0.330083  -15.430084     -0.052960   \n",
       "Amount  284807.0  8.834962e+01    250.120109    0.000000      5.600000   \n",
       "Class   284807.0  1.727486e-03      0.041527    0.000000      0.000000   \n",
       "\n",
       "                 50%            75%            max  \n",
       "Time    84692.000000  139320.500000  172792.000000  \n",
       "V1          0.018109       1.315642       2.454930  \n",
       "V2          0.065486       0.803724      22.057729  \n",
       "V3          0.179846       1.027196       9.382558  \n",
       "V4         -0.019847       0.743341      16.875344  \n",
       "V5         -0.054336       0.611926      34.801666  \n",
       "V6         -0.274187       0.398565      73.301626  \n",
       "V7          0.040103       0.570436     120.589494  \n",
       "V8          0.022358       0.327346      20.007208  \n",
       "V9         -0.051429       0.597139      15.594995  \n",
       "V10        -0.092917       0.453923      23.745136  \n",
       "V11        -0.032757       0.739593      12.018913  \n",
       "V12         0.140033       0.618238       7.848392  \n",
       "V13        -0.013568       0.662505       7.126883  \n",
       "V14         0.050601       0.493150      10.526766  \n",
       "V15         0.048072       0.648821       8.877742  \n",
       "V16         0.066413       0.523296      17.315112  \n",
       "V17        -0.065676       0.399675       9.253526  \n",
       "V18        -0.003636       0.500807       5.041069  \n",
       "V19         0.003735       0.458949       5.591971  \n",
       "V20        -0.062481       0.133041      39.420904  \n",
       "V21        -0.029450       0.186377      27.202839  \n",
       "V22         0.006782       0.528554      10.503090  \n",
       "V23        -0.011193       0.147642      22.528412  \n",
       "V24         0.040976       0.439527       4.584549  \n",
       "V25         0.016594       0.350716       7.519589  \n",
       "V26        -0.052139       0.240952       3.517346  \n",
       "V27         0.001342       0.091045      31.612198  \n",
       "V28         0.011244       0.078280      33.847808  \n",
       "Amount     22.000000      77.165000   25691.160000  \n",
       "Class       0.000000       0.000000       1.000000  "
      ]
     },
     "execution_count": 7,
     "metadata": {},
     "output_type": "execute_result"
    }
   ],
   "source": [
    "desc = transxns.describe().T\n",
    "desc"
   ]
  },
  {
   "cell_type": "markdown",
   "metadata": {},
   "source": [
    "### Section 2: Data Exploration & Visualizations\n",
    "\n",
    "#### Part 2.1\n",
    "Let's look at the distribution of the column `Amount` since it is the only column whose column name makes sense. Let's start with plotting the histogram."
   ]
  },
  {
   "cell_type": "code",
   "execution_count": 8,
   "metadata": {},
   "outputs": [
    {
     "data": {
      "image/png": "[encoded data removed]",
      "text/plain": [
       "<Figure size 432x288 with 1 Axes>"
      ]
     },
     "metadata": {
      "needs_background": "light"
     },
     "output_type": "display_data"
    }
   ],
   "source": [
    "plt.hist(transxns['Amount'], bins = 500, density = True)\n",
    "plt.xlim(0,1000)\n",
    "plt.xlabel('Transaction Amount')\n",
    "plt.ylabel('Probability');"
   ]
  },
  {
   "cell_type": "markdown",
   "metadata": {},
   "source": [
    "\n",
    "+ **Insight:** The probability histogram plot above seems like an exponential curve. Let's verify that. Initially, we'll assume that the exponential index is constant and then later we'll verify the assumption."
   ]
  },
  {
   "cell_type": "code",
   "execution_count": 9,
   "metadata": {},
   "outputs": [
    {
     "data": {
      "image/png": "[encoded data removed]",
      "text/plain": [
       "<Figure size 432x288 with 1 Axes>"
      ]
     },
     "metadata": {
      "needs_background": "light"
     },
     "output_type": "display_data"
    }
   ],
   "source": [
    "x = np.arange(0,2001)\n",
    "c = 0.014\n",
    "y = list(map(lambda a: c*np.exp(-c*a), x))\n",
    "plt.plot(x,y,label='Theoretical Distribution')\n",
    "plt.hist(transxns['Amount'], bins = 500, density = True, label='Observed Distribution')\n",
    "plt.xlim(0,1000)\n",
    "plt.xlabel('Transaction Amount')\n",
    "plt.ylabel('Probability')\n",
    "plt.legend();"
   ]
  },
  {
   "cell_type": "markdown",
   "metadata": {},
   "source": [
    "+ **Insight:** We see a poor fit between the probabilities of transaction amounts and exponential distribution. Therefore, let's check how wrong I was by assuming that the index in the exponential term is a constant by taking the log of the distribution. If the distribution is exponential, the log of the distribution must be a straight line with a negative slope."
   ]
  },
  {
   "cell_type": "markdown",
   "metadata": {},
   "source": [
    "#### Part 2.2: Structure in Histogram"
   ]
  },
  {
   "cell_type": "code",
   "execution_count": 10,
   "metadata": {},
   "outputs": [
    {
     "data": {
      "image/png": "[encoded data removed]",
      "text/plain": [
       "<Figure size 1080x360 with 2 Axes>"
      ]
     },
     "execution_count": 10,
     "metadata": {},
     "output_type": "execute_result"
    }
   ],
   "source": [
    "fig = Figure(figsize=(15,5))\n",
    "ax = fig.add_subplot(1,2,1)\n",
    "ax.plot(x,np.log(y))\n",
    "ax.set_xlabel('Transaction Amount')\n",
    "ax = fig.add_subplot(1,2,2)\n",
    "ax.hist(np.log(transxns.loc[(transxns['Amount'] > 0.)]['Amount']), bins = 100, density = True)\n",
    "ax.set_xlabel('Transaction Amount')\n",
    "fig"
   ]
  },
  {
   "cell_type": "markdown",
   "metadata": {},
   "source": [
    "+ **Insight:**\n",
    "Our initial assumption is clearly wrong. The log of the distribution looks Gaussian and not a straight line. Hence the transaction amounts follows a log-normal distribution. </font> "
   ]
  },
  {
   "cell_type": "markdown",
   "metadata": {},
   "source": [
    "#### More Data Exploration:\n",
    "\n",
    "1. Heatmap to identify collinearity between quantitative predictors.\n",
    "2. Identify outliers in quantitative predictors."
   ]
  },
  {
   "cell_type": "code",
   "execution_count": 11,
   "metadata": {},
   "outputs": [
    {
     "data": {
      "image/png": "[encoded data removed]",
      "text/plain": [
       "<Figure size 432x288 with 2 Axes>"
      ]
     },
     "metadata": {
      "needs_background": "light"
     },
     "output_type": "display_data"
    }
   ],
   "source": [
    "sns.heatmap(transxns.corr(),cmap = 'RdBu', center = 0.0);"
   ]
  },
  {
   "cell_type": "markdown",
   "metadata": {},
   "source": [
    "+ **Insights:** \n",
    "\n",
    "1. There is little to no correlation between the predictors.\n",
    "2. There is some anti-correlation between `V2` and `Amount`. Let's make a scatter plot to visualize their relation."
   ]
  },
  {
   "cell_type": "code",
   "execution_count": 12,
   "metadata": {},
   "outputs": [
    {
     "name": "stdout",
     "output_type": "stream",
     "text": [
      "Pearson's r coefficient between V2 and Amount: -0.531\n"
     ]
    },
    {
     "data": {
      "image/png": "[encoded data removed]",
      "text/plain": [
       "<Figure size 432x432 with 4 Axes>"
      ]
     },
     "metadata": {
      "needs_background": "light"
     },
     "output_type": "display_data"
    }
   ],
   "source": [
    "scatter_matrix(transxns[['V2','Amount']].sample(frac = 0.25), figsize = (6,6));\n",
    "print('Pearson\\'s r coefficient between V2 and Amount:',round(scipy.stats.pearsonr(transxns['V2'],transxns['Amount'])[0],3))"
   ]
  },
  {
   "cell_type": "markdown",
   "metadata": {},
   "source": [
    "Mild anti-correlation (r < 0.8) between V2 and Amount. "
   ]
  },
  {
   "cell_type": "code",
   "execution_count": 13,
   "metadata": {},
   "outputs": [],
   "source": [
    "def z_score_func(df, features):\n",
    "    '''\n",
    "    A function that calculates the z-scores of a dataframe provided the features. The dataframe is returned wih a column named 'outliers' containing boolean values, True if an outlier is present and False if not.   \n",
    "    '''\n",
    "    means = np.array(df[features].mean(axis=0))   \n",
    "    std_devs = np.array(df[features].std(axis=0)) \n",
    "    z_scores = (df[features] - means)/std_devs    \n",
    "    outliers = abs(z_scores) > 3    \n",
    "    flag = np.any(outliers,axis=1)\n",
    "    df['outliers'] = flag\n",
    "    \n",
    "    return df"
   ]
  },
  {
   "cell_type": "code",
   "execution_count": 14,
   "metadata": {},
   "outputs": [
    {
     "name": "stdout",
     "output_type": "stream",
     "text": [
      "Percentage of outliers = 13.278%\n"
     ]
    }
   ],
   "source": [
    "z_score_func(transxns,transxns.columns.drop('Class'))\n",
    "outlier_pct = round(100*Counter(transxns['outliers'])[True]/transxns.shape[0],3)\n",
    "print(f'Percentage of outliers = {outlier_pct}%')"
   ]
  },
  {
   "cell_type": "markdown",
   "metadata": {},
   "source": [
    "+ **Insight:** The number of outliers isn't small. We can check later on if removing outliers increases our model performance. For now let's just keep them."
   ]
  },
  {
   "cell_type": "markdown",
   "metadata": {},
   "source": [
    "## Section 3: Model Building\n",
    "\n",
    "Let's draw a sample of 10% from the dataset and keep it aside as the test set.\n",
    "\n",
    "#### Baseline Model:\n",
    "\n",
    "Let's create a baseline model with no feature engineering and over/under sampling."
   ]
  },
  {
   "cell_type": "code",
   "execution_count": 8,
   "metadata": {},
   "outputs": [
    {
     "name": "stdout",
     "output_type": "stream",
     "text": [
      "Full Data Set: \n",
      "Number of CLass 0s (isFraud = False): 284315\n",
      "Number of CLass 1s (isFraud = True): 492\n",
      "Percentage of 1s: 0.17%\n"
     ]
    }
   ],
   "source": [
    "# Let's check the number of \n",
    "# negative or Class 0 (non fraud transactions) and \n",
    "# positive of Class 1 (fraud transactions)\n",
    "labelCol = 'Class'\n",
    "pct_1 = round(100*Counter(transxns[labelCol])[True]/transxns.shape[0], 2)\n",
    "print('Full Data Set: \\nNumber of CLass 0s (isFraud = False):', Counter(transxns[labelCol])[False])\n",
    "print('Number of CLass 1s (isFraud = True):', Counter(transxns[labelCol])[True])\n",
    "print(f'Percentage of 1s: {pct_1}%')"
   ]
  },
  {
   "cell_type": "code",
   "execution_count": 16,
   "metadata": {},
   "outputs": [
    {
     "data": {
      "image/png": "[encoded data removed]",
      "text/plain": [
       "<Figure size 432x288 with 1 Axes>"
      ]
     },
     "metadata": {
      "needs_background": "light"
     },
     "output_type": "display_data"
    }
   ],
   "source": [
    "x = [0, 1]\n",
    "height = [Counter(transxns[labelCol])[False], Counter(transxns[labelCol])[True]]\n",
    "plt.bar(x, height, tick_label = ['Class = False', 'Class = True'])\n",
    "plt.title('Class Imbalance in Full Data Set');"
   ]
  },
  {
   "cell_type": "markdown",
   "metadata": {},
   "source": [
    "+ **Key Insight:** There is class imbalance, only 0.17% of transactions are labelled as fraud."
   ]
  },
  {
   "cell_type": "markdown",
   "metadata": {},
   "source": [
    "For the baseline model, let's draw a sample of 50,000 observations (18% of total). Once we finalize our baseline algorithm, we can train on the entire training set. "
   ]
  },
  {
   "cell_type": "code",
   "execution_count": 9,
   "metadata": {},
   "outputs": [],
   "source": [
    "randN = 1\n",
    "cols = transxns.columns.drop('Class')\n",
    "X_rest, X_test, y_rest, y_test = train_test_split(transxns[cols], transxns[labelCol], random_state = randN, test_size = 0.1)\n",
    "X_sample, _, y_sample, _ = train_test_split(X_rest, y_rest, random_state = randN, train_size = 50000)"
   ]
  },
  {
   "cell_type": "code",
   "execution_count": 18,
   "metadata": {},
   "outputs": [
    {
     "data": {
      "image/png": "[encoded data removed]",
      "text/plain": [
       "<Figure size 432x288 with 1 Axes>"
      ]
     },
     "metadata": {
      "needs_background": "light"
     },
     "output_type": "display_data"
    }
   ],
   "source": [
    "x = [0, 1]\n",
    "height = [Counter(transxns[labelCol])[False], Counter(transxns[labelCol])[True]]\n",
    "total = transxns.shape[0]\n",
    "plt.bar(x, list(map(lambda x: x/transxns.shape[0], height)), tick_label = ['Class = False', 'Class = True'],width=0.5,label='Full Data')\n",
    "\n",
    "height = [Counter(y_sample)[False], Counter(y_sample)[True]]\n",
    "total = len(y_sample)\n",
    "x = list(map(lambda x: x+0.2, x))\n",
    "plt.bar(x, list(map(lambda x: x/total, height)), tick_label = ['Class = False', 'Class = True'],width=0.5,label='Sample')\n",
    "plt.legend();"
   ]
  },
  {
   "cell_type": "code",
   "execution_count": 19,
   "metadata": {},
   "outputs": [
    {
     "name": "stdout",
     "output_type": "stream",
     "text": [
      "Sample: \n",
      "Number of CLass 0s (Class = False): 49896\n",
      "Number of CLass 1s (Class = True): 104\n",
      "Percentage of 1s: 0.21%\n"
     ]
    }
   ],
   "source": [
    "# Let's check the number of \n",
    "# negative or Class 0 (non fraud transactions) and \n",
    "# positive of Class 1 (fraud transactions) in the sample\n",
    "\n",
    "pct_1 = round(100*Counter(y_sample)[True]/len(y_sample), 2)\n",
    "print('Sample: \\nNumber of CLass 0s (Class = False):', Counter(y_sample)[False])\n",
    "print('Number of CLass 1s (Class = True):', Counter(y_sample)[True])\n",
    "print(f'Percentage of 1s: {pct_1}%')"
   ]
  },
  {
   "cell_type": "markdown",
   "metadata": {},
   "source": [
    "+ **Key Step:** Let's try out some classification models with default parameters. We also need to scale the data for models such as Logistic Regression. Let's use Maximum Absolute Scaler since it preserves the sparsity of the feature matrix."
   ]
  },
  {
   "cell_type": "code",
   "execution_count": 10,
   "metadata": {},
   "outputs": [],
   "source": [
    "def transform_func(X):\n",
    "    transformer = MaxAbsScaler()\n",
    "    X_transformer = transformer.fit(X)\n",
    "    return X_transformer"
   ]
  },
  {
   "cell_type": "code",
   "execution_count": 29,
   "metadata": {},
   "outputs": [],
   "source": [
    "estimators = {'logreg': LogisticRegression(solver = 'saga'), \n",
    "'sgd': SGDClassifier(loss='log'),               \n",
    "'dtc': DecisionTreeClassifier(),               \n",
    "'rfc': RandomForestClassifier(), \n",
    "'gbc': GradientBoostingClassifier(),              \n",
    "'xgb': XGBClassifier(verbosity=0)            \n",
    "}"
   ]
  },
  {
   "cell_type": "code",
   "execution_count": 11,
   "metadata": {},
   "outputs": [],
   "source": [
    "def f2_score(true, pred):\n",
    "    tn, fp, fn, tp = confusion_matrix(true, pred).ravel()\n",
    "    p = tp/(tp+fp)\n",
    "    r = tp/(tp+fn)\n",
    "    return (5 * p * r) / (4 * p + r)\n",
    "\n",
    "def pr_auc(true, pred):\n",
    "    precision, recall, thresholds = precision_recall_curve(true, pred)\n",
    "    return auc(recall, precision)\n",
    "    \n",
    "scoring = {'recall': 'recall',\n",
    "          'precision': 'precision',\n",
    "          'f1': 'f1',\n",
    "          'f2': make_scorer(f2_score),\n",
    "          'pr_auc': make_scorer(pr_auc, needs_proba=True)\n",
    "          }"
   ]
  },
  {
   "cell_type": "code",
   "execution_count": 12,
   "metadata": {},
   "outputs": [],
   "source": [
    "def model_testing(X,y):\n",
    "    est_scores_dict = {}\n",
    "\n",
    "    for estimator in estimators.keys():\n",
    "        est = estimators[estimator]\n",
    "        print(f'Started with {est}\\n')\n",
    "        start = time.time()\n",
    "        est_scores_dict[estimator] = cross_validate(est, X, y, scoring = scoring)\n",
    "        print(f'Finished with {est}\\n')\n",
    "        print('Time taken = ', round((time.time() - start)/60.,2) ,'mins \\n')\n",
    "        \n",
    "    return est_scores_dict"
   ]
  },
  {
   "cell_type": "code",
   "execution_count": 13,
   "metadata": {},
   "outputs": [],
   "source": [
    "def model_score(scores_dict):\n",
    "    score_set = {'test_' + score for score in scoring.keys()}\n",
    "    mean_dict = {}\n",
    "    std_dict = {}\n",
    "    for estimator in scores_dict.keys():\n",
    "        mean_dict[estimator] = {score: round(np.mean(scores_dict[estimator][score]),3) for score in score_set}\n",
    "        std_dict[estimator] = {score: round(np.std(scores_dict[estimator][score]),3) for score in score_set}\n",
    "    return pd.DataFrame(mean_dict), pd.DataFrame(std_dict)"
   ]
  },
  {
   "cell_type": "code",
   "execution_count": 25,
   "metadata": {},
   "outputs": [],
   "source": [
    "X_sample_transformer = transform_func(X_sample)\n",
    "X_sample_transform = X_sample_transformer.transform(X_sample)"
   ]
  },
  {
   "cell_type": "code",
   "execution_count": 30,
   "metadata": {
    "scrolled": true,
    "tags": []
   },
   "outputs": [
    {
     "name": "stdout",
     "output_type": "stream",
     "text": [
      "Started with LogisticRegression(solver='saga')\n",
      "\n",
      "Finished with LogisticRegression(solver='saga')\n",
      "\n",
      "Time taken =  0.1 mins \n",
      "\n",
      "Started with SGDClassifier(loss='log')\n",
      "\n",
      "Finished with SGDClassifier(loss='log')\n",
      "\n",
      "Time taken =  0.01 mins \n",
      "\n",
      "Started with DecisionTreeClassifier()\n",
      "\n",
      "Finished with DecisionTreeClassifier()\n",
      "\n",
      "Time taken =  0.16 mins \n",
      "\n",
      "Started with RandomForestClassifier()\n",
      "\n",
      "Finished with RandomForestClassifier()\n",
      "\n",
      "Time taken =  1.35 mins \n",
      "\n",
      "Started with GradientBoostingClassifier()\n",
      "\n",
      "Finished with GradientBoostingClassifier()\n",
      "\n",
      "Time taken =  4.8 mins \n",
      "\n",
      "Started with XGBClassifier(verbosity=0)\n",
      "\n",
      "Finished with XGBClassifier(verbosity=0)\n",
      "\n",
      "Time taken =  1.14 mins \n",
      "\n"
     ]
    }
   ],
   "source": [
    "est_scores_dict = model_testing(X_sample_transform, y_sample)"
   ]
  },
  {
   "cell_type": "code",
   "execution_count": 31,
   "metadata": {},
   "outputs": [],
   "source": [
    "mean, std = model_score(est_scores_dict)"
   ]
  },
  {
   "cell_type": "code",
   "execution_count": 32,
   "metadata": {},
   "outputs": [
    {
     "data": {
      "text/html": [
       "<div>\n",
       "<style scoped>\n",
       "    .dataframe tbody tr th:only-of-type {\n",
       "        vertical-align: middle;\n",
       "    }\n",
       "\n",
       "    .dataframe tbody tr th {\n",
       "        vertical-align: top;\n",
       "    }\n",
       "\n",
       "    .dataframe thead th {\n",
       "        text-align: right;\n",
       "    }\n",
       "</style>\n",
       "<table border=\"1\" class=\"dataframe\">\n",
       "  <thead>\n",
       "    <tr style=\"text-align: right;\">\n",
       "      <th></th>\n",
       "      <th>logreg</th>\n",
       "      <th>sgd</th>\n",
       "      <th>dtc</th>\n",
       "      <th>rfc</th>\n",
       "      <th>gbc</th>\n",
       "      <th>xgb</th>\n",
       "    </tr>\n",
       "  </thead>\n",
       "  <tbody>\n",
       "    <tr>\n",
       "      <th>test_f2</th>\n",
       "      <td>0.599</td>\n",
       "      <td>0.448</td>\n",
       "      <td>0.755</td>\n",
       "      <td>0.835</td>\n",
       "      <td>0.754</td>\n",
       "      <td>0.826</td>\n",
       "    </tr>\n",
       "    <tr>\n",
       "      <th>test_precision</th>\n",
       "      <td>0.879</td>\n",
       "      <td>0.829</td>\n",
       "      <td>0.781</td>\n",
       "      <td>0.915</td>\n",
       "      <td>0.927</td>\n",
       "      <td>0.914</td>\n",
       "    </tr>\n",
       "    <tr>\n",
       "      <th>test_f1</th>\n",
       "      <td>0.678</td>\n",
       "      <td>0.540</td>\n",
       "      <td>0.764</td>\n",
       "      <td>0.862</td>\n",
       "      <td>0.810</td>\n",
       "      <td>0.856</td>\n",
       "    </tr>\n",
       "    <tr>\n",
       "      <th>test_recall</th>\n",
       "      <td>0.557</td>\n",
       "      <td>0.403</td>\n",
       "      <td>0.750</td>\n",
       "      <td>0.818</td>\n",
       "      <td>0.721</td>\n",
       "      <td>0.808</td>\n",
       "    </tr>\n",
       "    <tr>\n",
       "      <th>test_pr_auc</th>\n",
       "      <td>0.792</td>\n",
       "      <td>0.791</td>\n",
       "      <td>0.766</td>\n",
       "      <td>0.850</td>\n",
       "      <td>0.741</td>\n",
       "      <td>0.856</td>\n",
       "    </tr>\n",
       "  </tbody>\n",
       "</table>\n",
       "</div>"
      ],
      "text/plain": [
       "                logreg    sgd    dtc    rfc    gbc    xgb\n",
       "test_f2          0.599  0.448  0.755  0.835  0.754  0.826\n",
       "test_precision   0.879  0.829  0.781  0.915  0.927  0.914\n",
       "test_f1          0.678  0.540  0.764  0.862  0.810  0.856\n",
       "test_recall      0.557  0.403  0.750  0.818  0.721  0.808\n",
       "test_pr_auc      0.792  0.791  0.766  0.850  0.741  0.856"
      ]
     },
     "execution_count": 32,
     "metadata": {},
     "output_type": "execute_result"
    }
   ],
   "source": [
    "mean"
   ]
  },
  {
   "cell_type": "code",
   "execution_count": 14,
   "metadata": {},
   "outputs": [],
   "source": [
    "def performance_measure_plot(df):\n",
    "    markers = ['o', 's', '+', 'x', 'D']\n",
    "    it = iter(markers)\n",
    "    for score in scoring:\n",
    "        plt.scatter(df.columns, df.loc['test_'+score],label=score, marker=next(it))\n",
    "    plt.ylabel('Performance Score')\n",
    "    plt.legend(bbox_to_anchor = (1., 1.))\n",
    "    plt.show();"
   ]
  },
  {
   "cell_type": "code",
   "execution_count": 34,
   "metadata": {},
   "outputs": [
    {
     "data": {
      "image/png": "[encoded data removed]",
      "text/plain": [
       "<Figure size 432x288 with 1 Axes>"
      ]
     },
     "metadata": {
      "needs_background": "light"
     },
     "output_type": "display_data"
    }
   ],
   "source": [
    "performance_measure_plot(mean)"
   ]
  },
  {
   "cell_type": "markdown",
   "metadata": {},
   "source": [
    "+ **Key Insight:** From the performance measure plot above, the models with the best PR-AUC score are Random Forest and the XGBoost Classifier.\n",
    "\n",
    "+ A very straightforward way to improve the baseline model would be to use over or under-sampling so that the training data contains equal number of records for both classes.  "
   ]
  },
  {
   "cell_type": "markdown",
   "metadata": {},
   "source": [
    "#### Baseline Model score"
   ]
  },
  {
   "cell_type": "code",
   "execution_count": 15,
   "metadata": {},
   "outputs": [],
   "source": [
    "def scores_func(clf, X, y):\n",
    "    pred = clf.predict(X)\n",
    "    scores = {}\n",
    "    scores['recall'] = round(recall_score(y, pred), 2)\n",
    "    scores['precision'] = round(precision_score(y, pred), 2)    \n",
    "    scores['f1'] = round(f1_score(y, pred), 2)    \n",
    "    scores['f2'] = round(f2_score(y, pred), 2)    \n",
    "\n",
    "    prob1 = clf.predict_proba(X)[:, 1]\n",
    "    scores['pr_auc'] = round(pr_auc(y, prob1), 2)   \n",
    "    \n",
    "    return scores"
   ]
  },
  {
   "cell_type": "code",
   "execution_count": 36,
   "metadata": {},
   "outputs": [],
   "source": [
    "X_rest_transformer = transform_func(X_rest)\n",
    "X_rest_transform = X_rest_transformer.transform(X_rest)"
   ]
  },
  {
   "cell_type": "code",
   "execution_count": 37,
   "metadata": {},
   "outputs": [
    {
     "data": {
      "text/plain": [
       "XGBClassifier(verbosity=0)"
      ]
     },
     "execution_count": 37,
     "metadata": {},
     "output_type": "execute_result"
    }
   ],
   "source": [
    "xgb_baseline = XGBClassifier(verbosity=0)\n",
    "xgb_baseline.fit(X_rest_transform, y_rest)"
   ]
  },
  {
   "cell_type": "code",
   "execution_count": 38,
   "metadata": {},
   "outputs": [],
   "source": [
    "X_test_transform = X_rest_transformer.transform(X_test)"
   ]
  },
  {
   "cell_type": "code",
   "execution_count": 39,
   "metadata": {},
   "outputs": [
    {
     "data": {
      "text/plain": [
       "{'recall': 0.8, 'precision': 0.93, 'f1': 0.86, 'f2': 0.82, 'pr_auc': 0.81}"
      ]
     },
     "execution_count": 39,
     "metadata": {},
     "output_type": "execute_result"
    }
   ],
   "source": [
    "xgb_baseline_scores = scores_func(xgb_baseline, X_test_transform, y_test)\n",
    "xgb_baseline_scores"
   ]
  },
  {
   "cell_type": "code",
   "execution_count": 40,
   "metadata": {},
   "outputs": [
    {
     "data": {
      "text/plain": [
       "RandomForestClassifier()"
      ]
     },
     "execution_count": 40,
     "metadata": {},
     "output_type": "execute_result"
    }
   ],
   "source": [
    "rfc_baseline = RandomForestClassifier()\n",
    "rfc_baseline.fit(X_rest_transform, y_rest)"
   ]
  },
  {
   "cell_type": "code",
   "execution_count": 41,
   "metadata": {},
   "outputs": [
    {
     "data": {
      "text/plain": [
       "{'recall': 0.76, 'precision': 0.97, 'f1': 0.85, 'f2': 0.79, 'pr_auc': 0.81}"
      ]
     },
     "execution_count": 41,
     "metadata": {},
     "output_type": "execute_result"
    }
   ],
   "source": [
    "rfc_baseline_scores = scores_func(rfc_baseline, X_test_transform, y_test)\n",
    "rfc_baseline_scores"
   ]
  },
  {
   "cell_type": "markdown",
   "metadata": {},
   "source": [
    "+ __Key Result:__ The best baseline model PR AUC score is 0.81"
   ]
  },
  {
   "cell_type": "markdown",
   "metadata": {},
   "source": [
    "#### Under Sampling"
   ]
  },
  {
   "cell_type": "code",
   "execution_count": 42,
   "metadata": {},
   "outputs": [],
   "source": [
    "rus = RandomUnderSampler(random_state = randN)\n",
    "X_train, y_train = rus.fit_resample(X_rest, y_rest)"
   ]
  },
  {
   "cell_type": "code",
   "execution_count": 43,
   "metadata": {},
   "outputs": [
    {
     "name": "stdout",
     "output_type": "stream",
     "text": [
      "Full Data Set: \n",
      "Number of CLass 0s (isFraud = False): 443\n",
      "Number of CLass 1s (isFraud = True): 443\n",
      "Percentage of 1s: 50.0%\n"
     ]
    }
   ],
   "source": [
    "# Let's check the number of \n",
    "# negative or Class 0 (non fraud transactions) and \n",
    "# positive of Class 1 (fraud transactions)\n",
    "labelCol = 'Class'\n",
    "pct_1 = round(100*Counter(y_train)[True]/y_train.shape[0], 2)\n",
    "print('Full Data Set: \\nNumber of CLass 0s (isFraud = False):', Counter(y_train)[0])\n",
    "print('Number of CLass 1s (isFraud = True):', Counter(y_train)[1])\n",
    "print(f'Percentage of 1s: {pct_1}%')"
   ]
  },
  {
   "cell_type": "markdown",
   "metadata": {},
   "source": [
    "* __Insight:__ Under sampling might not be the right approach since the number of positive samples is very low. We see above that the under-sampled training set only contains 443\\*2 = 886 observations. Therefore, oversampling is preferable.  "
   ]
  },
  {
   "cell_type": "markdown",
   "metadata": {},
   "source": [
    "### Over-Sampling"
   ]
  },
  {
   "cell_type": "code",
   "execution_count": 16,
   "metadata": {},
   "outputs": [],
   "source": [
    "ros = RandomOverSampler(random_state = randN)\n",
    "X_over_sample, y_over_sample = ros.fit_resample(X_rest, y_rest)\n",
    "X_train, _, y_train, _ = train_test_split(X_over_sample,\n",
    "y_over_sample, random_state = randN, train_size = 50000)"
   ]
  },
  {
   "cell_type": "code",
   "execution_count": 17,
   "metadata": {},
   "outputs": [
    {
     "data": {
      "image/png": "[encoded data removed]",
      "text/plain": [
       "<Figure size 432x288 with 1 Axes>"
      ]
     },
     "metadata": {
      "needs_background": "light"
     },
     "output_type": "display_data"
    }
   ],
   "source": [
    "x = [0, 1]\n",
    "height = [Counter(transxns[labelCol])[False], Counter(transxns[labelCol])[True]]\n",
    "total = transxns.shape[0]\n",
    "plt.bar(x, list(map(lambda x: x/transxns.shape[0], height)), tick_label = ['Class = False', 'Class = True'],width=0.5,label='Full Data')\n",
    "\n",
    "height = [Counter(y_sample)[False], Counter(y_sample)[True]]\n",
    "total = len(y_sample)\n",
    "x = list(map(lambda x: x+0.2, x))\n",
    "plt.bar(x, list(map(lambda x: x/total, height)), tick_label = ['Class = False', 'Class = True'],width=0.5,label='Random Sample')\n",
    "plt.legend();\n",
    "\n",
    "height = [Counter(y_train)[False], Counter(y_train)[True]]\n",
    "total = len(y_train)\n",
    "x = list(map(lambda x: x+0.2, x))\n",
    "plt.bar(x, list(map(lambda x: x/total, height)), tick_label = ['Class = False', 'Class = True'],width=0.5,label='Over Sample')\n",
    "plt.legend();"
   ]
  },
  {
   "cell_type": "code",
   "execution_count": 38,
   "metadata": {},
   "outputs": [],
   "source": [
    "X_train_transformer = transform_func(X_train)\n",
    "X_train_transform = X_train_transformer.transform(X_train)"
   ]
  },
  {
   "cell_type": "code",
   "execution_count": 47,
   "metadata": {
    "scrolled": true,
    "tags": []
   },
   "outputs": [
    {
     "name": "stdout",
     "output_type": "stream",
     "text": [
      "Started with LogisticRegression(solver='saga')\n",
      "\n",
      "Finished with LogisticRegression(solver='saga')\n",
      "\n",
      "Time taken =  0.08 mins \n",
      "\n",
      "Started with SGDClassifier(loss='log')\n",
      "\n",
      "Finished with SGDClassifier(loss='log')\n",
      "\n",
      "Time taken =  0.01 mins \n",
      "\n",
      "Started with DecisionTreeClassifier()\n",
      "\n",
      "Finished with DecisionTreeClassifier()\n",
      "\n",
      "Time taken =  0.07 mins \n",
      "\n",
      "Started with RandomForestClassifier()\n",
      "\n",
      "Finished with RandomForestClassifier()\n",
      "\n",
      "Time taken =  0.95 mins \n",
      "\n",
      "Started with GradientBoostingClassifier()\n",
      "\n",
      "Finished with GradientBoostingClassifier()\n",
      "\n",
      "Time taken =  2.63 mins \n",
      "\n",
      "Started with XGBClassifier(verbosity=0)\n",
      "\n",
      "Finished with XGBClassifier(verbosity=0)\n",
      "\n",
      "Time taken =  0.99 mins \n",
      "\n"
     ]
    }
   ],
   "source": [
    "est_scores_dict = model_testing(X_train_transform, y_train)"
   ]
  },
  {
   "cell_type": "code",
   "execution_count": 48,
   "metadata": {},
   "outputs": [],
   "source": [
    "mean, std = model_score(est_scores_dict)"
   ]
  },
  {
   "cell_type": "code",
   "execution_count": 49,
   "metadata": {},
   "outputs": [
    {
     "data": {
      "text/html": [
       "<div>\n",
       "<style scoped>\n",
       "    .dataframe tbody tr th:only-of-type {\n",
       "        vertical-align: middle;\n",
       "    }\n",
       "\n",
       "    .dataframe tbody tr th {\n",
       "        vertical-align: top;\n",
       "    }\n",
       "\n",
       "    .dataframe thead th {\n",
       "        text-align: right;\n",
       "    }\n",
       "</style>\n",
       "<table border=\"1\" class=\"dataframe\">\n",
       "  <thead>\n",
       "    <tr style=\"text-align: right;\">\n",
       "      <th></th>\n",
       "      <th>logreg</th>\n",
       "      <th>sgd</th>\n",
       "      <th>dtc</th>\n",
       "      <th>rfc</th>\n",
       "      <th>gbc</th>\n",
       "      <th>xgb</th>\n",
       "    </tr>\n",
       "  </thead>\n",
       "  <tbody>\n",
       "    <tr>\n",
       "      <th>test_f2</th>\n",
       "      <td>0.927</td>\n",
       "      <td>0.923</td>\n",
       "      <td>0.999</td>\n",
       "      <td>1.0</td>\n",
       "      <td>0.993</td>\n",
       "      <td>0.992</td>\n",
       "    </tr>\n",
       "    <tr>\n",
       "      <th>test_precision</th>\n",
       "      <td>0.979</td>\n",
       "      <td>0.980</td>\n",
       "      <td>0.996</td>\n",
       "      <td>1.0</td>\n",
       "      <td>0.992</td>\n",
       "      <td>0.994</td>\n",
       "    </tr>\n",
       "    <tr>\n",
       "      <th>test_f1</th>\n",
       "      <td>0.946</td>\n",
       "      <td>0.943</td>\n",
       "      <td>0.998</td>\n",
       "      <td>1.0</td>\n",
       "      <td>0.992</td>\n",
       "      <td>0.993</td>\n",
       "    </tr>\n",
       "    <tr>\n",
       "      <th>test_recall</th>\n",
       "      <td>0.915</td>\n",
       "      <td>0.910</td>\n",
       "      <td>1.000</td>\n",
       "      <td>1.0</td>\n",
       "      <td>0.993</td>\n",
       "      <td>0.992</td>\n",
       "    </tr>\n",
       "    <tr>\n",
       "      <th>test_pr_auc</th>\n",
       "      <td>0.988</td>\n",
       "      <td>0.987</td>\n",
       "      <td>0.998</td>\n",
       "      <td>1.0</td>\n",
       "      <td>0.999</td>\n",
       "      <td>1.000</td>\n",
       "    </tr>\n",
       "  </tbody>\n",
       "</table>\n",
       "</div>"
      ],
      "text/plain": [
       "                logreg    sgd    dtc  rfc    gbc    xgb\n",
       "test_f2          0.927  0.923  0.999  1.0  0.993  0.992\n",
       "test_precision   0.979  0.980  0.996  1.0  0.992  0.994\n",
       "test_f1          0.946  0.943  0.998  1.0  0.992  0.993\n",
       "test_recall      0.915  0.910  1.000  1.0  0.993  0.992\n",
       "test_pr_auc      0.988  0.987  0.998  1.0  0.999  1.000"
      ]
     },
     "execution_count": 49,
     "metadata": {},
     "output_type": "execute_result"
    }
   ],
   "source": [
    "mean"
   ]
  },
  {
   "cell_type": "code",
   "execution_count": 50,
   "metadata": {},
   "outputs": [
    {
     "data": {
      "image/png": "[encoded data removed]",
      "text/plain": [
       "<Figure size 432x288 with 1 Axes>"
      ]
     },
     "metadata": {
      "needs_background": "light"
     },
     "output_type": "display_data"
    }
   ],
   "source": [
    "performance_measure_plot(mean)"
   ]
  },
  {
   "cell_type": "markdown",
   "metadata": {},
   "source": [
    "+ **Key Insights:**\n",
    "\n",
    "- CV scores are very high (in some cases equal to 1) since many samples are present in both the training and the validation set. This is due to oversampling.\n",
    "- The best model seems to be the Random Forest Classifier & XGBoost Classifier with the highest PR AUC & Recall. \n",
    "\n",
    "Let's short-list both Random Forest Classifier and XGBoost Classifier for the next stage."
   ]
  },
  {
   "cell_type": "markdown",
   "metadata": {},
   "source": [
    "### Model Fine-tuning\n",
    "\n",
    "Now let's fine tune the hyper-parameters of the short-listed models using Grid Search Cross-Validation. We must specify the scoring metric. For fraud detection, we care more about the under-represented class or fraud transactions. If a fraud transaction goes through, the customer loses money. Therefore, metrics such as _Recall_ and _PR AUC_ are suitable. "
   ]
  },
  {
   "cell_type": "markdown",
   "metadata": {},
   "source": [
    "#### Random Forest Classifier"
   ]
  },
  {
   "cell_type": "code",
   "execution_count": 51,
   "metadata": {},
   "outputs": [],
   "source": [
    "param_grid = {'max_depth': [5, 10],\n",
    "             'n_estimators': [100, 200],\n",
    "             'max_features': [0.25, 0.5]} "
   ]
  },
  {
   "cell_type": "code",
   "execution_count": 52,
   "metadata": {},
   "outputs": [],
   "source": [
    "rfc = RandomForestClassifier()"
   ]
  },
  {
   "cell_type": "code",
   "execution_count": 53,
   "metadata": {},
   "outputs": [],
   "source": [
    "grid_search = GridSearchCV(rfc, param_grid, cv = 5, scoring = scoring['pr_auc'])"
   ]
  },
  {
   "cell_type": "code",
   "execution_count": 54,
   "metadata": {},
   "outputs": [
    {
     "name": "stdout",
     "output_type": "stream",
     "text": [
      "Random Forest Classifier Grid Search Time Taken:  17.58  mins\n"
     ]
    }
   ],
   "source": [
    "start = time.time()\n",
    "grid_search.fit(X_train_transform, y_train)\n",
    "print('Random Forest Classifier Grid Search Time Taken: ', round( (time.time() - start)/60., 3), ' mins')"
   ]
  },
  {
   "cell_type": "code",
   "execution_count": 55,
   "metadata": {},
   "outputs": [
    {
     "data": {
      "text/plain": [
       "RandomForestClassifier(max_depth=10, max_features=0.25, n_estimators=200)"
      ]
     },
     "execution_count": 55,
     "metadata": {},
     "output_type": "execute_result"
    }
   ],
   "source": [
    "rfc_best_est = grid_search.best_estimator_\n",
    "rfc_best_est "
   ]
  },
  {
   "cell_type": "code",
   "execution_count": 20,
   "metadata": {},
   "outputs": [],
   "source": [
    "X_over_sample_transformer = transform_func(X_over_sample)\n",
    "X_over_sample_transform = X_over_sample_transformer.transform(X_over_sample)"
   ]
  },
  {
   "cell_type": "code",
   "execution_count": 57,
   "metadata": {},
   "outputs": [
    {
     "data": {
      "text/plain": [
       "RandomForestClassifier(max_depth=10, max_features=0.25, n_estimators=200)"
      ]
     },
     "execution_count": 57,
     "metadata": {},
     "output_type": "execute_result"
    }
   ],
   "source": [
    "rfc_best_est.fit(X_over_sample_transform, y_over_sample)"
   ]
  },
  {
   "cell_type": "code",
   "execution_count": 58,
   "metadata": {},
   "outputs": [],
   "source": [
    "def plot_scores(scores):\n",
    "    x = list(scores.keys())\n",
    "    y = [scores[i] for i in x]\n",
    "    plt.scatter(x, y)\n",
    "    plt.xlabel('Metric')\n",
    "    plt.ylabel('Scores')\n",
    "    plt.title('Test Scores')"
   ]
  },
  {
   "cell_type": "code",
   "execution_count": 22,
   "metadata": {},
   "outputs": [],
   "source": [
    "X_test_transform = X_over_sample_transformer.transform(X_test)"
   ]
  },
  {
   "cell_type": "code",
   "execution_count": 60,
   "metadata": {},
   "outputs": [
    {
     "data": {
      "text/plain": [
       "{'recall': 0.82, 'precision': 0.68, 'f1': 0.74, 'f2': 0.78, 'pr_auc': 0.78}"
      ]
     },
     "execution_count": 60,
     "metadata": {},
     "output_type": "execute_result"
    }
   ],
   "source": [
    "test_scores = scores_func(rfc_best_est, X_test_transform, y_test)\n",
    "test_scores"
   ]
  },
  {
   "cell_type": "code",
   "execution_count": 47,
   "metadata": {},
   "outputs": [],
   "source": [
    "def compare_train_test(train_scores, test_scores):\n",
    "    test_recall, train_recall = test_scores['recall'], train_scores['recall']\n",
    "    test_pr_auc, train_pr_auc = test_scores['pr_auc'], train_scores['pr_auc']\n",
    "    print(f'Recall scores: Test {test_recall} vs Train {train_recall}')\n",
    "    print(f'PR Auc scores: Test {test_pr_auc} vs Train {train_pr_auc}')"
   ]
  },
  {
   "cell_type": "code",
   "execution_count": 62,
   "metadata": {},
   "outputs": [
    {
     "name": "stdout",
     "output_type": "stream",
     "text": [
      "Recall scores: Test 0.82 vs Train 0.99\n",
      "PR Auc scores: Test 0.78 vs Train 1.0\n"
     ]
    }
   ],
   "source": [
    "train_scores = scores_func(rfc_best_est, X_over_sample_transform, y_over_sample)\n",
    "compare_train_test(train_scores, test_scores)"
   ]
  },
  {
   "cell_type": "markdown",
   "metadata": {},
   "source": [
    "+ **Comment**: We notice that the difference between training and test scores is large. Also, the training scores are near perfect, 1.0. Therefore, the Random Forest model overfits!"
   ]
  },
  {
   "cell_type": "code",
   "execution_count": 63,
   "metadata": {},
   "outputs": [],
   "source": [
    "rfc_val_scores = cross_validate(rfc_best_est, X_over_sample_transform, y_over_sample, scoring = scoring, return_train_score=True)"
   ]
  },
  {
   "cell_type": "code",
   "execution_count": 64,
   "metadata": {},
   "outputs": [
    {
     "name": "stdout",
     "output_type": "stream",
     "text": [
      "Train scores (PR): 1.0 +\\- 0.0\n",
      "Validation scores (PR): 1.0 +\\- 0.0\n"
     ]
    }
   ],
   "source": [
    "print('Train scores (PR):', round(np.mean(rfc_val_scores['train_pr_auc']),3), '+\\-', round(np.std(rfc_val_scores['train_pr_auc']),3))\n",
    "print('Validation scores (PR):', round(np.mean(rfc_val_scores['test_pr_auc']),3), '+\\-', round(np.std(rfc_val_scores['test_pr_auc']),3))"
   ]
  },
  {
   "cell_type": "markdown",
   "metadata": {},
   "source": [
    "#### XGBoost Classifier"
   ]
  },
  {
   "cell_type": "code",
   "execution_count": 34,
   "metadata": {},
   "outputs": [],
   "source": [
    "param_grid = {'max_depth': [6, 10, 20],\n",
    "             'lambda': [1, 5, 10],\n",
    "             'eta': [0.03, 0.3, 1.]\n",
    "             } "
   ]
  },
  {
   "cell_type": "code",
   "execution_count": 40,
   "metadata": {},
   "outputs": [],
   "source": [
    "xgb = XGBClassifier(verbosity=0, use_label_encoder=False)"
   ]
  },
  {
   "cell_type": "code",
   "execution_count": 41,
   "metadata": {},
   "outputs": [],
   "source": [
    "grid_search = GridSearchCV(xgb, param_grid, cv = 5, scoring = scoring['pr_auc'])"
   ]
  },
  {
   "cell_type": "code",
   "execution_count": 42,
   "metadata": {
    "scrolled": true,
    "tags": []
   },
   "outputs": [
    {
     "name": "stdout",
     "output_type": "stream",
     "text": [
      "XGBoost Grid Search Time Taken:  32.304  mins\n"
     ]
    }
   ],
   "source": [
    "start = time.time()\n",
    "grid_search.fit(X_train_transform, y_train);\n",
    "print('XGBoost Grid Search Time Taken: ', round( (time.time() - start)/60., 3), ' mins')"
   ]
  },
  {
   "cell_type": "code",
   "execution_count": 43,
   "metadata": {},
   "outputs": [
    {
     "data": {
      "text/plain": [
       "XGBClassifier(base_score=0.5, booster='gbtree', colsample_bylevel=1,\n",
       "              colsample_bynode=1, colsample_bytree=1, eta=1.0, gamma=0,\n",
       "              gpu_id=-1, importance_type='gain', interaction_constraints='',\n",
       "              lambda=10, learning_rate=1, max_delta_step=0, max_depth=20,\n",
       "              min_child_weight=1, missing=nan, monotone_constraints='()',\n",
       "              n_estimators=100, n_jobs=4, num_parallel_tree=1, random_state=0,\n",
       "              reg_alpha=0, reg_lambda=10, scale_pos_weight=1, subsample=1,\n",
       "              tree_method='exact', use_label_encoder=False,\n",
       "              validate_parameters=1, verbosity=0)"
      ]
     },
     "execution_count": 43,
     "metadata": {},
     "output_type": "execute_result"
    }
   ],
   "source": [
    "xgb_best_est = grid_search.best_estimator_\n",
    "xgb_best_est"
   ]
  },
  {
   "cell_type": "code",
   "execution_count": 44,
   "metadata": {},
   "outputs": [],
   "source": [
    "xgb_best_est.fit(X_over_sample_transform, y_over_sample);"
   ]
  },
  {
   "cell_type": "code",
   "execution_count": 45,
   "metadata": {},
   "outputs": [
    {
     "data": {
      "text/plain": [
       "{'recall': 0.78, 'precision': 0.95, 'f1': 0.85, 'f2': 0.81, 'pr_auc': 0.8}"
      ]
     },
     "execution_count": 45,
     "metadata": {},
     "output_type": "execute_result"
    }
   ],
   "source": [
    "test_scores = scores_func(xgb_best_est, X_test_transform, y_test)\n",
    "test_scores"
   ]
  },
  {
   "cell_type": "code",
   "execution_count": 48,
   "metadata": {},
   "outputs": [
    {
     "name": "stdout",
     "output_type": "stream",
     "text": [
      "Recall scores: Test 0.78 vs Train 1.0\n",
      "PR Auc scores: Test 0.8 vs Train 1.0\n"
     ]
    }
   ],
   "source": [
    "train_scores = scores_func(xgb_best_est, X_over_sample_transform, y_over_sample)\n",
    "compare_train_test(train_scores, test_scores)"
   ]
  },
  {
   "cell_type": "markdown",
   "metadata": {},
   "source": [
    "+ **Insight:**  The PR AUC of the fine-tuned XGBoost shows no improvement from the baseline model. "
   ]
  },
  {
   "cell_type": "markdown",
   "metadata": {},
   "source": [
    "#### More Insights from XGBoost Classifier"
   ]
  },
  {
   "cell_type": "markdown",
   "metadata": {},
   "source": [
    "##### Confusion Matrix: \n",
    "Let's look at the number of true positives, true negatives, false positives and false negatives from the test set. "
   ]
  },
  {
   "cell_type": "code",
   "execution_count": 49,
   "metadata": {},
   "outputs": [
    {
     "data": {
      "image/png": "[encoded data removed]",
      "text/plain": [
       "<Figure size 432x288 with 2 Axes>"
      ]
     },
     "metadata": {
      "needs_background": "light"
     },
     "output_type": "display_data"
    }
   ],
   "source": [
    "disp = plot_confusion_matrix(xgb_best_est, X_test_transform, y_test)\n",
    "disp.ax_.set_title('XG Boost');"
   ]
  },
  {
   "cell_type": "markdown",
   "metadata": {},
   "source": [
    "We see that the diagonal values are greater than the off-diagonal ones. This means the true positives and true negatives are greater than the false positives and false negatives respectively. "
   ]
  },
  {
   "cell_type": "markdown",
   "metadata": {},
   "source": [
    "##### ROC Curve"
   ]
  },
  {
   "cell_type": "code",
   "execution_count": 50,
   "metadata": {},
   "outputs": [
    {
     "data": {
      "image/png": "[encoded data removed]",
      "text/plain": [
       "<Figure size 432x288 with 1 Axes>"
      ]
     },
     "metadata": {
      "needs_background": "light"
     },
     "output_type": "display_data"
    }
   ],
   "source": [
    "prob1 = [prob[1] for prob in xgb_best_est.predict_proba(X_test_transform)]\n",
    "precision, recall, thresholds = precision_recall_curve(y_test, prob1)\n",
    "plt.plot(recall,precision, label='ROC Curve')\n",
    "plt.xlabel('Recall')\n",
    "plt.ylabel('Precision')\n",
    "plt.legend();"
   ]
  },
  {
   "cell_type": "markdown",
   "metadata": {},
   "source": [
    "##### Feature Importance\n",
    "\n",
    "What were some of the most important features determining fraud transactions? "
   ]
  },
  {
   "cell_type": "code",
   "execution_count": 53,
   "metadata": {},
   "outputs": [
    {
     "data": {
      "image/png": "[encoded data removed]",
      "text/plain": [
       "<Figure size 432x288 with 1 Axes>"
      ]
     },
     "metadata": {
      "needs_background": "light"
     },
     "output_type": "display_data"
    }
   ],
   "source": [
    "xgboost.plot_importance(xgb_best_est,height = 0.5, grid=False, max_num_features=10,xlabel='PR AUC');"
   ]
  },
  {
   "cell_type": "markdown",
   "metadata": {},
   "source": [
    "+ **Key Insight:** We see that `V14` and `f29` or `Amount` are the 2 most important factors determining fraud transactions.  "
   ]
  },
  {
   "cell_type": "markdown",
   "metadata": {},
   "source": [
    "#### Summary of Section 3: Model Building\n",
    "    \n",
    "1. Standardized the numerical values using Max Absolute Value for each feature.\n",
    "        \n",
    "2. Created a baseline model by trying out many models with default hyper-parameter values. The baseline model performance was PR_AUC = 0.81 on the test set.\n",
    "    \n",
    "3. Oversampling: Created a new training set with equal number of fraud and normal transactions to see if we can improve on the baseline model. I then shortlisted RandomForest and XGBoost classifier for further fine-tuning.\n",
    "    \n",
    "4. Fine-tuning: Used grid search cross-validation method and pr_auc scores to fine-tune the short-listed models. The test/generalization score of Random Forest (0.78) is slightly worse as compared to XGBoost (0.8). \n",
    "    \n",
    "5. Chose XGBoost as the final model. The PR AUC score was 0.8 on the test set. \n",
    "    \n",
    "6. Also deduced feature importance. Concluded that `V14` and `Amount` are the two most important features."
   ]
  }
 ],
 "metadata": {
  "kernelspec": {
   "display_name": "Python 3",
   "language": "python",
   "name": "python3"
  },
  "language_info": {
   "codemirror_mode": {
    "name": "ipython",
    "version": 3
   },
   "file_extension": ".py",
   "mimetype": "text/x-python",
   "name": "python",
   "nbconvert_exporter": "python",
   "pygments_lexer": "ipython3",
   "version": "3.8.8"
  },
  "widgets": {
   "application/vnd.jupyter.widget-state+json": {
    "state": {},
    "version_major": 2,
    "version_minor": 0
   }
  }
 },
 "nbformat": 4,
 "nbformat_minor": 4
}
